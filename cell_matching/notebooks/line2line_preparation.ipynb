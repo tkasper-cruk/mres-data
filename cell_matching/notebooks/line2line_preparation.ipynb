{
 "cells": [
  {
   "cell_type": "markdown",
   "id": "606816fd",
   "metadata": {},
   "source": [
    "# Used Data"
   ]
  },
  {
   "cell_type": "markdown",
   "id": "c60c4871",
   "metadata": {},
   "source": [
    "|Cells     |DNA-SLX   |RNA-IDX |\n",
    "|----------|----------|--------|\n",
    "|PEO1-MIX  |SLX-24532 |SITTF7  |\n",
    "|PEO1-MIS  |SLX-24491 |SITTC7  |\n",
    "|PEO1-STOP |SLX-24518 |SITTG8  |\n",
    "|NA12878   |SLX-25395 |SITTB3  |\n"
   ]
  },
  {
   "cell_type": "markdown",
   "id": "3fb52dfe",
   "metadata": {},
   "source": [
    "## Setup dataset"
   ]
  },
  {
   "cell_type": "code",
   "execution_count": null,
   "id": "5bc39ae5",
   "metadata": {},
   "outputs": [],
   "source": [
    "import pandas as pd\n",
    "from pathlib import Path\n",
    "import subprocess"
   ]
  },
  {
   "cell_type": "code",
   "execution_count": null,
   "id": "0720f42b",
   "metadata": {},
   "outputs": [],
   "source": [
    "profiles_dir = Path(\"\") #path to directory which will contain the profile tsvs\n",
    "workflow_dir = Path(\"\") #absolute path to the root of the cell matching workflow (cell_matching)\n",
    "scrna_cnv_dir = Path(\"\")\n",
    "genes_ref = scrna_cnv_dir/\"resources/annotate_genes_hg19_update_20230126.txt\" # Path to gene reference file (should be present in scRNA-seq processing workflow)\n"
   ]
  },
  {
   "cell_type": "code",
   "execution_count": null,
   "id": "1f0334ed",
   "metadata": {},
   "outputs": [],
   "source": [
    "samples_dna = { # second element should be absolute path to scAbsolute rds object\n",
    "    \"SLX-24532\" : (\"PEO1\",\"\"),\n",
    "    \"SLX-24491\" : (\"PEO1-Mis\",\"\"),\n",
    "    \"SLX-24518\" : (\"PEO1-Stop\",\"\"),\n",
    "    \"SLX-25395\" : (\"NA12878\",\"\")\n",
    "}\n",
    "samples_rna = {\n",
    "    \"SITTF7\" : \"PEO1\",\n",
    "    \"SITTC7\" : \"PEO1-Mis\",\n",
    "    \"SITTG8\" : \"PEO1-Stop\",\n",
    "    \"SITTB3\" : \"NA12878\"\n",
    "}\n",
    "rna_methods = { # first element is a list of profile modes to create (at least one from [cn,cat], second element is path to the output dir for the method, which should contain one directory for each SLX)\n",
    "    \"rna\": ([\"cn\"],scrna_cnv_dir/\"results/cellranger_post\"), #qc filtered gene expression profiles\n",
    "    \"copykat\":([\"cn\"],scrna_cnv_dir/\"results/copykat\"), \n",
    "    \"copyvae\":([\"cn\"],scrna_cnv_dir/\"results/copyvae\"), \n",
    "    \"numbat\":([\"cat\"],scrna_cnv_dir/\"results/numbat\")\n",
    "}\n",
    "rna_cells_per_sample = 1400 #set to number of cells per RNA sample to use. All DNA cells are used\n",
    "random_seed = 42\n"
   ]
  },
  {
   "cell_type": "markdown",
   "id": "ab05b5cc",
   "metadata": {},
   "source": [
    "## Extract all profiles (scAbsolute, gene expression and scRNA-seq based CNV)"
   ]
  },
  {
   "cell_type": "code",
   "execution_count": null,
   "id": "77f7da15",
   "metadata": {},
   "outputs": [],
   "source": [
    "#scAbsolute\n",
    "for slx in samples_dna:\n",
    "    cell_line,scabs_path = samples_dna[slx]\n",
    "    subprocess.run([\n",
    "        str(workflow_dir/\"cell_matching/scripts/transform_data.py\"),\n",
    "        \"-i\",scabs_path,\n",
    "        \"-n\",cell_line,\n",
    "        \"-o\",str(profiles_dir.absolute()),\n",
    "        \"-t\",\"scabsolute\",\n",
    "        \"-g\",genes_ref,\n",
    "        \"-m\",\"cn\"\n",
    "    ])\n",
    "    subprocess.run([\n",
    "        str(workflow_dir/\"cell_matching/scripts/transform_data.py\"),\n",
    "        \"-i\",scabs_path,\n",
    "        \"-n\",cell_line,\n",
    "        \"-o\",str(profiles_dir.absolute()),\n",
    "        \"-t\",\"scabsolute\",\n",
    "        \"-g\",genes_ref,\n",
    "        \"-m\",\"cat\"\n",
    "    ])\n",
    "    print(cell_line)    "
   ]
  },
  {
   "cell_type": "code",
   "execution_count": null,
   "id": "cd3cad6a",
   "metadata": {},
   "outputs": [],
   "source": [
    "#RNA-based methods\n",
    "for sample_id in samples_rna:\n",
    "    cell_line = samples_rna[sample_id]\n",
    "    for method in rna_methods:\n",
    "        for mode in rna_methods[method][0]:\n",
    "            subprocess.run([\n",
    "                str(workflow_dir/\"cell_matching/scripts/transform_data.py\"),\n",
    "                \"-i\",rna_methods[method][1]/sample_id,\n",
    "                \"-n\",cell_line,\n",
    "                \"-o\",str(profiles_dir.absolute()),\n",
    "                \"-t\",method,\n",
    "                \"-g\",genes_ref,\n",
    "                \"-m\",mode\n",
    "            ])\n",
    "        print(method,sample_id)"
   ]
  },
  {
   "cell_type": "markdown",
   "id": "05a6e3fe",
   "metadata": {},
   "source": [
    "## Combine per-sample profiles into one large dataset"
   ]
  },
  {
   "cell_type": "code",
   "execution_count": null,
   "id": "50db4174",
   "metadata": {},
   "outputs": [],
   "source": [
    "dna_cn = pd.concat([pd.read_csv(profiles_dir/f\"{slx}_scabsolute_cn.tsv\",index_col=0,sep=\"\\t\").rename(columns=lambda x: f\"{samples_dna[slx]}_{x}\") for slx in samples_dna],axis=1).astype(int)\n",
    "dna_cn = dna_cn.loc[dna_cn.apply(sum,axis=1)>0]\n",
    "dna_cn.to_csv(profiles_dir/\"/dna_cn_allgenes.tsv\",sep=\"\\t\")\n",
    "dna_cn"
   ]
  },
  {
   "cell_type": "code",
   "execution_count": null,
   "id": "b61ff782",
   "metadata": {},
   "outputs": [],
   "source": [
    "dna_cat = pd.concat([pd.read_csv(profiles_dir/f\"{slx}_scabsolute_cat.tsv\",index_col=0,sep=\"\\t\").rename(columns=lambda x: f\"{samples_dna[slx]}_{x}\") for slx in samples_dna],axis=1).astype(int)\n",
    "dna_cat = dna_cat.loc[dna_cat.apply(sum,axis=1)>0]\n",
    "dna_cat.to_csv(profiles_dir/\"dna_cat_allgenes.tsv\",sep=\"\\t\")\n",
    "dna_cat"
   ]
  },
  {
   "cell_type": "code",
   "execution_count": null,
   "id": "b8b2ffe6",
   "metadata": {},
   "outputs": [],
   "source": [
    "for method in rna_methods:\n",
    "    for mode in rna_methods[method][0]:\n",
    "        temp_df = pd.concat(\n",
    "            [\n",
    "                pd.read_csv(profiles_dir/f\"{sam}_{method}_{mode}.tsv\",index_col=0,sep=\"\\t\").rename(columns=lambda x: f\"{samples_rna[sam]}_{x}\").sample(n=rna_cells_per_sample,random_state=random_seed,axis=1) \n",
    "                for sam in samples_rna\n",
    "            ],axis=1\n",
    "        ).dropna().astype(float).to_csv(profiles_dir/f\"{method}_{mode}.tsv\",sep=\"\\t\")\n",
    "        print(method)\n",
    "        if method == \"rna\" and mode == \"cn\": #required later on\n",
    "            rna_cn = temp_df.copy()\n"
   ]
  },
  {
   "cell_type": "markdown",
   "id": "8d8a7779",
   "metadata": {},
   "source": [
    "## Get DNA and RNA profiles on shared set of genes\n",
    "* Necessary for MaCroDNA and clonealign\n",
    "* speeds up similarity calculation for gene expression vs. DNA -> no NA cells"
   ]
  },
  {
   "cell_type": "code",
   "execution_count": null,
   "id": "6a1c92ce",
   "metadata": {},
   "outputs": [],
   "source": [
    "shared_genes = list(set(dna_cn.index).intersection(rna_cn.index))\n",
    "len(shared_genes)"
   ]
  },
  {
   "cell_type": "code",
   "execution_count": null,
   "id": "e66d797a",
   "metadata": {},
   "outputs": [],
   "source": [
    "dna_cn.loc[shared_genes].to_csv(profiles_dir/\"dna_cn_shared.tsv\",sep=\"\\t\")\n",
    "rna_cn.loc[shared_genes].to_csv(profiles_dir/\"rna_cn_shared.tsv\",sep=\"\\t\")"
   ]
  },
  {
   "cell_type": "markdown",
   "id": "07cedd42",
   "metadata": {},
   "source": [
    "## Create reduced-complexity set of clones for clonealign (DNA only)"
   ]
  },
  {
   "cell_type": "code",
   "execution_count": null,
   "id": "8ed121a9",
   "metadata": {},
   "outputs": [],
   "source": [
    "clonealign_data = dna_cn.loc[shared_genes].copy()\n"
   ]
  },
  {
   "cell_type": "code",
   "execution_count": null,
   "id": "83eb090a",
   "metadata": {},
   "outputs": [],
   "source": [
    "clonealign_data.to_csv(profiles_dir/\"dna_cn_clonealign.tsv\",sep=\"\\t\")"
   ]
  }
 ],
 "metadata": {
  "kernelspec": {
   "display_name": "merge_dna_rna",
   "language": "python",
   "name": "python3"
  },
  "language_info": {
   "codemirror_mode": {
    "name": "ipython",
    "version": 3
   },
   "file_extension": ".py",
   "mimetype": "text/x-python",
   "name": "python",
   "nbconvert_exporter": "python",
   "pygments_lexer": "ipython3",
   "version": "3.12.10"
  }
 },
 "nbformat": 4,
 "nbformat_minor": 5
}
