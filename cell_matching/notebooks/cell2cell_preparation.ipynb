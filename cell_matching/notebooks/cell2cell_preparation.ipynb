{
 "cells": [
  {
   "cell_type": "markdown",
   "id": "606816fd",
   "metadata": {},
   "source": [
    "# Used Data"
   ]
  },
  {
   "cell_type": "markdown",
   "id": "c60c4871",
   "metadata": {},
   "source": [
    "|Cells     |DNA-SLX   |RNA-IDX |\n",
    "|----------|----------|--------|\n",
    "|NA12878   |SLX-24514 |SITTD8  |\n"
   ]
  },
  {
   "cell_type": "markdown",
   "id": "3fb52dfe",
   "metadata": {},
   "source": [
    "## Setup dataset"
   ]
  },
  {
   "cell_type": "code",
   "execution_count": null,
   "id": "5bc39ae5",
   "metadata": {},
   "outputs": [],
   "source": [
    "import pandas as pd\n",
    "from pathlib import Path\n",
    "import subprocess"
   ]
  },
  {
   "cell_type": "code",
   "execution_count": null,
   "id": "0720f42b",
   "metadata": {},
   "outputs": [],
   "source": [
    "profiles_dir = Path(\"\") #path to directory which will contain the profile tsvs\n",
    "workflow_dir = Path(\"\") #absolute path to the root of the cell matching workflow (cell_matching)\n",
    "scrna_cnv_dir = Path(\"\")\n",
    "genes_ref = scrna_cnv_dir /\"resources/annotate_genes_hg19_update_20230126.txt\" # Path to gene reference file (should be present in scRNA-seq processing workflow)\n",
    "sample_name = \"cell2cell\"\n",
    "scabsolute_result = \"\" # absolute path to scAbsolute rds object\n",
    "rna_idx = \"\" #RNA Sample name\n",
    "samplesheet_path = profiles_dir / \"data_file.csv\" #Path to samplesheet"
   ]
  },
  {
   "cell_type": "code",
   "execution_count": null,
   "id": "1f0334ed",
   "metadata": {},
   "outputs": [],
   "source": [
    "methods = { # first element is a list of profile modes to create (at least one from [cn,cat], second element is path to the output dir for the method, which should contain one directory for each SLX)\n",
    "    \"scabsolute\" : : ([\"cn\"],scabsolute_result),\n",
    "    \"rna\": ([\"cn\"],scrna_cnv_dir/\"results/cellranger_post\"/rna_idx), #qc filtered gene expression profiles\n",
    "    \"copykat\":([\"cn\"],scrna_cnv_dir/\"results/copykat\"/rna_idx), \n",
    "    \"copyvae\":([\"cn\"],scrna_cnv_dir/\"results/copyvae\"/rna_idx), \n",
    "}\n"
   ]
  },
  {
   "cell_type": "markdown",
   "id": "ab05b5cc",
   "metadata": {},
   "source": [
    "## Extract all profiles (scAbsolute, gene expression and scRNA-seq based CNV) and write samplesheet"
   ]
  },
  {
   "cell_type": "code",
   "execution_count": null,
   "id": "77f7da15",
   "metadata": {},
   "outputs": [],
   "source": [
    "with open(samplesheet_path,\"wt\") as outhandle:\n",
    "    outhandle.write(\"Data_source,Data_file,Mode\\n\")\n",
    "    for method in methods:\n",
    "        for mode in methods[method][0]:\n",
    "            subprocess.run([\n",
    "                str(workflow_dir/\"cell_matching/scripts/transform_data.py\"),\n",
    "                \"-i\",scabsolute_result,\n",
    "                \"-n\",\"unfiltered\",\n",
    "                \"-o\",str(profiles_dir.absolute()),\n",
    "                \"-t\",\"scabsolute\",\n",
    "                \"-g\",genes_ref,\n",
    "            ])\n",
    "            outhandle.write(f\"{method},{profiles_dir.absolute()/f'{sample_name}_{method}_{mode}.tsv'},{mode}\\n\")\n",
    "        "
   ]
  }
 ],
 "metadata": {
  "kernelspec": {
   "display_name": "merge_dna_rna",
   "language": "python",
   "name": "python3"
  },
  "language_info": {
   "codemirror_mode": {
    "name": "ipython",
    "version": 3
   },
   "file_extension": ".py",
   "mimetype": "text/x-python",
   "name": "python",
   "nbconvert_exporter": "python",
   "pygments_lexer": "ipython3",
   "version": "3.12.10"
  }
 },
 "nbformat": 4,
 "nbformat_minor": 5
}
