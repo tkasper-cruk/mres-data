{
 "cells": [
  {
   "cell_type": "markdown",
   "metadata": {},
   "source": [
    "## 0 Imports and setup"
   ]
  },
  {
   "cell_type": "code",
   "execution_count": 1,
   "metadata": {},
   "outputs": [],
   "source": [
    "import logging\n",
    "from pathlib import Path\n",
    "\n",
    "import numpy as np\n",
    "import seaborn as sns\n",
    "from matplotlib import pyplot as plt\n",
    "\n",
    "from scipy.sparse import issparse, csr_matrix\n",
    "from scipy.stats import median_abs_deviation\n",
    "from scipy.io import mmwrite\n",
    "\n",
    "import scanpy as sc\n",
    "\n",
    "import rpy2.rinterface_lib.callbacks as rcb\n",
    "import rpy2.robjects as ro\n",
    "import anndata2ri\n",
    "\n",
    "import subprocess as sp\n",
    "\n",
    "sc.settings.verbosity = 0\n",
    "sc.settings.set_figure_params(\n",
    "    dpi=300,\n",
    "    facecolor=\"white\",\n",
    "     # color_map=\"YlGnBu\",\n",
    "    frameon=False,\n",
    ")\n",
    "\n",
    "rcb.logger.setLevel(logging.ERROR)\n",
    "ro.pandas2ri.activate()\n",
    "anndata2ri.activate()\n",
    "%load_ext rpy2.ipython"
   ]
  },
  {
   "cell_type": "code",
   "execution_count": null,
   "metadata": {},
   "outputs": [],
   "source": [
    "%%R\n",
    "#QC\n",
    "library(Seurat)\n",
    "library(scater)\n",
    "library(scDblFinder)\n",
    "library(BiocParallel)\n",
    "#normalisation\n",
    "library(scran)\n",
    "#feature selection\n",
    "library(scry)"
   ]
  },
  {
   "cell_type": "code",
   "execution_count": null,
   "metadata": {},
   "outputs": [],
   "source": [
    "def is_outlier(adata, metric: str, nmads: int):\n",
    "    M = adata.obs[metric]\n",
    "    outlier = (M < np.median(M) - nmads * median_abs_deviation(M)) | (\n",
    "        np.median(M) + nmads * median_abs_deviation(M) < M\n",
    "    )\n",
    "    return outlier\n",
    "\n",
    "def write_output(adata, output_dir : Path, identifier : str):\n",
    "    adata.write(output_dir/f\"{identifier}.h5ad\") #save h5ad file\n",
    "    mtx_dir = output_dir/f\"{identifier}_mtx\"\n",
    "    mtx_dir.mkdir(exist_ok=True)\n",
    "    features=adata.var\n",
    "    barcodes=adata.obs\n",
    "    features.index.rename(\"GeneName\",inplace=True)\n",
    "    barcodes.index.rename(\"Barcode\",inplace=True)\n",
    "    features.to_csv(mtx_dir/\"features.tsv\",sep=\"\\t\",header=False)\n",
    "    barcodes.to_csv(mtx_dir/\"barcodes.tsv\",sep=\"\\t\",header=False)\n",
    "    features.to_csv(mtx_dir/\"features_header.tsv\",sep=\"\\t\",header=True)\n",
    "    barcodes.to_csv(mtx_dir/\"barcodes_header.tsv\",sep=\"\\t\",header=True)\n",
    "    mmwrite(mtx_dir/\"matrix.mtx\",csr_matrix(adata.X.T),field=\"integer\")\n",
    "    \n",
    "    sp.run(f\"gzip -f {str(mtx_dir)}/matrix.mtx\",shell=True)\n",
    "    sp.run(f\"gzip -f {str(mtx_dir)}/features.tsv\",shell=True)\n",
    "    sp.run(f\"gzip -f {str(mtx_dir)}/barcodes.tsv\",shell=True)\n",
    "    "
   ]
  },
  {
   "cell_type": "code",
   "execution_count": null,
   "metadata": {},
   "outputs": [],
   "source": [
    "cr_dir = Path(globals()[\"__vsc_ipynb_file__\"]).parent.absolute() #globals()[\"__vsc_ipynb_file__\"]\n",
    "cr_od = str(cr_dir)\n",
    "s_id = cr_dir.name\n",
    "outdir= cr_dir.parent / f\"cellranger_post/{s_id}/\"\n",
    "if not outdir.is_dir():\n",
    "    outdir.mkdir()"
   ]
  },
  {
   "cell_type": "markdown",
   "metadata": {},
   "source": [
    "## 1 QC"
   ]
  },
  {
   "cell_type": "markdown",
   "metadata": {},
   "source": [
    "### 1.1 SoupX\n",
    "* Replaced by Cellbender (before notebook execution)"
   ]
  },
  {
   "cell_type": "markdown",
   "metadata": {},
   "source": [
    "### 1.2 Load cellranger output and add SoupX layer"
   ]
  },
  {
   "cell_type": "code",
   "execution_count": null,
   "metadata": {},
   "outputs": [],
   "source": [
    "adata = sc.read_10x_h5(cr_dir/\"feature_bc_matrix_filtered.h5\")\n",
    "adata.var_names_make_unique()\n",
    "adata.layers[\"counts\"] = adata.X\n",
    "adata"
   ]
  },
  {
   "cell_type": "markdown",
   "metadata": {},
   "source": [
    "### 1.3 Filter low-quality cells"
   ]
  },
  {
   "cell_type": "markdown",
   "metadata": {},
   "source": [
    "#### 1.3.1 Annotate genes and calculate QC metrics"
   ]
  },
  {
   "cell_type": "code",
   "execution_count": 12,
   "metadata": {},
   "outputs": [],
   "source": [
    "adata.var[\"mt\"] = adata.var_names.str.startswith(\"MT-\") # mitochondrial genes\n",
    "adata.var[\"ribo\"] = adata.var_names.str.startswith((\"RPS\", \"RPL\")) # ribosomal genes\n",
    "adata.var[\"hb\"] = adata.var_names.str.contains(\"^HB[^(P)]\") # hemoglobin genes.\n",
    "sc.pp.calculate_qc_metrics(adata, qc_vars=[\"mt\", \"ribo\", \"hb\"], inplace=True, percent_top=[20], log1p=True)"
   ]
  },
  {
   "cell_type": "markdown",
   "metadata": {},
   "source": [
    "#### 1.3.2 Plot QC metrics"
   ]
  },
  {
   "cell_type": "code",
   "execution_count": null,
   "metadata": {},
   "outputs": [],
   "source": [
    "fig,axs = plt.subplots(2,2,figsize=(16,16))\n",
    "sns.histplot(adata.obs[\"total_counts\"], bins=100,ax=axs[0,0])\n",
    "sns.violinplot(adata.obs,y=\"total_counts\",ax=axs[0,1],inner=\"box\")\n",
    "sns.stripplot(adata.obs,y=\"total_counts\",ax=axs[0,1],color=\"black\",alpha=0.5,s=2)\n",
    "axs[0,1].set_ylim(0,axs[0,1].get_ylim()[1])\n",
    "sns.violinplot(adata.obs,y=\"pct_counts_mt\",ax=axs[1,0],inner=\"box\")\n",
    "sns.stripplot(adata.obs,y=\"pct_counts_mt\",ax=axs[1,0],color=\"black\",alpha=0.5,s=2)\n",
    "axs[1,0].set_ylim(0,axs[1,0].get_ylim()[1])\n",
    "\n",
    "axs[1,1] = plt.scatter(x=adata.obs[\"total_counts\"],y=adata.obs[\"n_genes_by_counts\"],c=adata.obs[\"pct_counts_mt\"],cmap=sns.color_palette(\"viridis\", as_cmap=True),s=10)\n",
    "plt.colorbar()\n",
    "\n",
    "sns.despine()\n",
    "plt.tight_layout()\n",
    "plt.savefig(outdir/f\"{s_id}_pre_filtering.png\",dpi=300)\n",
    "plt.show()"
   ]
  },
  {
   "cell_type": "markdown",
   "metadata": {},
   "source": [
    "#### 1.3.3 Detect and remove outlier cells"
   ]
  },
  {
   "cell_type": "code",
   "execution_count": null,
   "metadata": {},
   "outputs": [],
   "source": [
    "adata.obs[\"outlier\"] = (\n",
    "    is_outlier(adata, \"log1p_total_counts\", 5)\n",
    "    | is_outlier(adata, \"log1p_n_genes_by_counts\", 5)\n",
    "    | is_outlier(adata, \"pct_counts_in_top_20_genes\", 5)\n",
    ")\n",
    "print(\"Cell count outliers:\")\n",
    "print(adata.obs.outlier.value_counts())\n",
    "print()\n",
    "adata.obs[\"mt_outlier\"] = is_outlier(adata, \"pct_counts_mt\", 3) | (\n",
    "    adata.obs[\"pct_counts_mt\"] > 8\n",
    ")\n",
    "print(\"Mitochondrial counts outliers:\")\n",
    "print(adata.obs.mt_outlier.value_counts())"
   ]
  },
  {
   "cell_type": "code",
   "execution_count": null,
   "metadata": {},
   "outputs": [],
   "source": [
    "print(f\"Total number of cells: {adata.n_obs}\")\n",
    "adata = adata[(~adata.obs.outlier) & (~adata.obs.mt_outlier)].copy()\n",
    "\n",
    "print(f\"Number of cells after filtering of low quality cells: {adata.n_obs}\")\n",
    "p1 = sc.pl.scatter(adata, \"total_counts\", \"n_genes_by_counts\", color=\"pct_counts_mt\")\n",
    "plt.show()"
   ]
  },
  {
   "cell_type": "markdown",
   "metadata": {},
   "source": [
    "### 1.4 Removal of likely background genes"
   ]
  },
  {
   "cell_type": "code",
   "execution_count": null,
   "metadata": {},
   "outputs": [],
   "source": [
    "print(f\"Total number of genes: {adata.n_vars}\")\n",
    "# Min 20 cells - filters out 0 count genes\n",
    "sc.pp.filter_genes(adata, min_cells=20)\n",
    "print(f\"Number of genes after cell filter: {adata.n_vars}\")"
   ]
  },
  {
   "cell_type": "markdown",
   "metadata": {},
   "source": [
    "### 1.5 Doublet detection"
   ]
  },
  {
   "cell_type": "code",
   "execution_count": null,
   "metadata": {},
   "outputs": [],
   "source": [
    "data_mat = adata.X.T.astype(np.float32)"
   ]
  },
  {
   "cell_type": "code",
   "execution_count": 18,
   "metadata": {},
   "outputs": [],
   "source": [
    "%%R -i data_mat -o doublet_score -o doublet_class\n",
    "\n",
    "set.seed(123)\n",
    "sce = scDblFinder(\n",
    "    SingleCellExperiment(\n",
    "        list(counts=data_mat),\n",
    "    ) \n",
    ")\n",
    "doublet_score = sce$scDblFinder.score\n",
    "doublet_class = sce$scDblFinder.class"
   ]
  },
  {
   "cell_type": "code",
   "execution_count": null,
   "metadata": {},
   "outputs": [],
   "source": [
    "adata.obs[\"scDblFinder_score\"] = doublet_score\n",
    "adata.obs[\"scDblFinder_class\"] = doublet_class\n",
    "adata.obs.scDblFinder_class.value_counts()"
   ]
  },
  {
   "cell_type": "code",
   "execution_count": null,
   "metadata": {},
   "outputs": [],
   "source": [
    "adata = adata[adata.obs.scDblFinder_class == \"singlet\"].copy()"
   ]
  },
  {
   "cell_type": "markdown",
   "metadata": {},
   "source": [
    "### 1.6 Save QC-passed h5ad file to disk (Optional)"
   ]
  },
  {
   "cell_type": "code",
   "execution_count": 34,
   "metadata": {},
   "outputs": [
    {
     "name": "stderr",
     "output_type": "stream",
     "text": [
      "gzip: /mnt/shared/workspace/snakemake_rnaseq/results/notebook_test/filtered_mtx/matrix.mtx.gz already exists;\tnot overwritten\n",
      "gzip: /mnt/shared/workspace/snakemake_rnaseq/results/notebook_test/filtered_mtx/features.tsv.gz already exists;\tnot overwritten\n"
     ]
    }
   ],
   "source": [
    "write_output(adata,outdir,\"filtered\")"
   ]
  },
  {
   "cell_type": "markdown",
   "metadata": {},
   "source": [
    "## 2 Count Normalisation"
   ]
  },
  {
   "cell_type": "markdown",
   "metadata": {},
   "source": [
    "### 2.1 Shifted Logarithm"
   ]
  },
  {
   "cell_type": "code",
   "execution_count": 16,
   "metadata": {},
   "outputs": [],
   "source": [
    "scales_counts = sc.pp.normalize_total(adata, target_sum=None, inplace=False)\n",
    "adata.layers[\"log1p_norm\"] = sc.pp.log1p(scales_counts[\"X\"], copy=True)"
   ]
  },
  {
   "cell_type": "markdown",
   "metadata": {},
   "source": [
    "#### 2.1.1 Scran"
   ]
  },
  {
   "cell_type": "code",
   "execution_count": null,
   "metadata": {},
   "outputs": [],
   "source": [
    "adata_pp = adata.copy()\n",
    "sc.pp.normalize_total(adata_pp)\n",
    "sc.pp.log1p(adata_pp)\n",
    "sc.pp.pca(adata_pp, n_comps=15)\n",
    "sc.pp.neighbors(adata_pp)\n",
    "sc.tl.leiden(adata_pp, key_added=\"groups\",flavor=\"igraph\",n_iterations=2)\n",
    "data_mat = adata_pp.X.T\n",
    "# convert to CSC if possible. See https://github.com/MarioniLab/scran/issues/70\n",
    "if issparse(data_mat):\n",
    "    if data_mat.nnz > 2**31 - 1:\n",
    "        data_mat = data_mat.tocoo()\n",
    "    else:\n",
    "        data_mat = data_mat.tocsc()\n",
    "ro.globalenv[\"data_mat\"] = data_mat\n",
    "ro.globalenv[\"input_groups\"] = adata_pp.obs[\"groups\"]\n",
    "del adata_pp"
   ]
  },
  {
   "cell_type": "code",
   "execution_count": 18,
   "metadata": {},
   "outputs": [],
   "source": [
    "%%R -o size_factors\n",
    "size_factors = sizeFactors(\n",
    "    computeSumFactors(\n",
    "        SingleCellExperiment(\n",
    "            list(counts=data_mat)), \n",
    "            clusters = input_groups,\n",
    "            min.mean = 0.1,\n",
    "            BPPARAM = MulticoreParam()\n",
    "    )\n",
    ")"
   ]
  },
  {
   "cell_type": "code",
   "execution_count": 19,
   "metadata": {},
   "outputs": [],
   "source": [
    "adata.obs[\"size_factors\"] = size_factors\n",
    "scran = adata.X / adata.obs[\"size_factors\"].values[:, None]\n",
    "adata.layers[\"scran_normalization\"] = csr_matrix(sc.pp.log1p(scran.tocsc()))"
   ]
  },
  {
   "cell_type": "markdown",
   "metadata": {},
   "source": [
    "### 2.2 Analytic Pearson residuals"
   ]
  },
  {
   "cell_type": "code",
   "execution_count": null,
   "metadata": {},
   "outputs": [],
   "source": [
    "analytic_pearson = sc.experimental.pp.normalize_pearson_residuals(adata, inplace=False)\n",
    "adata.layers[\"analytic_pearson_residuals\"] = csr_matrix(analytic_pearson[\"X\"])"
   ]
  },
  {
   "cell_type": "markdown",
   "metadata": {},
   "source": [
    "### 2.3 Visualisation"
   ]
  },
  {
   "cell_type": "code",
   "execution_count": null,
   "metadata": {},
   "outputs": [],
   "source": [
    "fig, axes = plt.subplots(2, 2, figsize=(10, 10))\n",
    "sns.histplot(adata.obs[\"total_counts\"], bins=1000, kde=False, ax=axes[0,0],legend=False)\n",
    "axes[0,0].set_xlabel(\"\")\n",
    "sns.histplot(adata.layers[\"log1p_norm\"].sum(1), bins=1000, kde=False, ax=axes[0,1],legend=False)\n",
    "sns.histplot(adata.layers[\"scran_normalization\"].sum(1), bins=1000, kde=False, ax=axes[1,0],legend=False)\n",
    "sns.histplot(adata.layers[\"analytic_pearson_residuals\"].sum(1), bins=1000, kde=False, ax=axes[1,1],legend=False)\n",
    "axes[0,0].set_title(\"Total counts\")\n",
    "axes[0,1].set_title(\"Shifted logarithm\")\n",
    "axes[1,0].set_title(\"log1p with Scran estimated size factors\")\n",
    "axes[1,1].set_title(\"Analytic Pearson residuals\")\n",
    "sns.despine()\n",
    "plt.tight_layout()\n",
    "plt.show()"
   ]
  },
  {
   "cell_type": "markdown",
   "metadata": {},
   "source": [
    "### 2.4 Save Normalised counts (Optional)"
   ]
  },
  {
   "cell_type": "code",
   "execution_count": 22,
   "metadata": {},
   "outputs": [],
   "source": [
    "write_output(adata,outdir,\"filtered_norm\")"
   ]
  },
  {
   "cell_type": "markdown",
   "metadata": {},
   "source": [
    "## 3 Feature selection"
   ]
  },
  {
   "cell_type": "code",
   "execution_count": null,
   "metadata": {},
   "outputs": [],
   "source": [
    "adata = sc.read(\n",
    "    filename=outdir / \"filtered_norm.h5ad\"\n",
    ")\n",
    "adata.X = adata.X.astype(np.float32)\n",
    "adata.layers[\"counts\"] = adata.layers[\"counts\"].astype(np.float32)\n",
    "ro.globalenv[\"adata\"] = adata"
   ]
  },
  {
   "cell_type": "code",
   "execution_count": 26,
   "metadata": {},
   "outputs": [],
   "source": [
    "%%R\n",
    "sce = devianceFeatureSelection(adata, assay=\"X\")"
   ]
  },
  {
   "cell_type": "code",
   "execution_count": 28,
   "metadata": {},
   "outputs": [],
   "source": [
    "binomial_deviance = ro.r(\"rowData(sce)$binomial_deviance\").T\n",
    "idx = binomial_deviance.argsort()[-min(int(adata.n_vars*0.2),4000):] #modified to scale better when few genes are present\n",
    "mask = np.zeros(adata.var_names.shape, dtype=bool)\n",
    "mask[idx] = True\n",
    "\n",
    "adata.var[\"highly_deviant\"] = mask\n",
    "adata.var[\"binomial_deviance\"] = binomial_deviance\n",
    "#sc.pp.highly_variable_genes(adata, layer=\"log1p_norm\")"
   ]
  },
  {
   "cell_type": "code",
   "execution_count": null,
   "metadata": {},
   "outputs": [],
   "source": [
    "sc.pp.highly_variable_genes(adata, layer=\"log1p_norm\")\n",
    "ax = sns.scatterplot(\n",
    "    data=adata.var, x=\"means\", y=\"dispersions\", hue=\"highly_deviant\", s=5\n",
    ")\n",
    "plt.show()"
   ]
  },
  {
   "cell_type": "markdown",
   "metadata": {},
   "source": [
    "## 4 Dimensionality reduction"
   ]
  },
  {
   "cell_type": "code",
   "execution_count": 30,
   "metadata": {},
   "outputs": [],
   "source": [
    "#adata.X = adata.layers[\"log1p_norm\"]\n",
    "# setting highly variable as highly deviant to use scanpy 'use_highly_variable' argument in sc.pp.pca"
   ]
  },
  {
   "cell_type": "markdown",
   "metadata": {},
   "source": [
    "### 4.1 PCA"
   ]
  },
  {
   "cell_type": "code",
   "execution_count": null,
   "metadata": {},
   "outputs": [],
   "source": [
    "sc.pp.pca(adata, svd_solver=\"arpack\", mask_var=\"highly_deviant\")\n",
    "sc.pl.pca_scatter(adata, color=\"total_counts\")"
   ]
  },
  {
   "cell_type": "markdown",
   "metadata": {},
   "source": [
    "### 4.2 tSNE"
   ]
  },
  {
   "cell_type": "code",
   "execution_count": null,
   "metadata": {},
   "outputs": [],
   "source": [
    "sc.tl.tsne(adata, use_rep=\"X_pca\")\n",
    "sc.pl.tsne(adata, color=\"total_counts\")"
   ]
  },
  {
   "cell_type": "markdown",
   "metadata": {},
   "source": [
    "### 4.3 UMAP"
   ]
  },
  {
   "cell_type": "code",
   "execution_count": null,
   "metadata": {},
   "outputs": [],
   "source": [
    "sc.pp.neighbors(adata)\n",
    "sc.tl.umap(adata)\n",
    "sc.pl.umap(adata, color=\"total_counts\")"
   ]
  },
  {
   "cell_type": "markdown",
   "metadata": {},
   "source": [
    "### QC metrics"
   ]
  },
  {
   "cell_type": "code",
   "execution_count": null,
   "metadata": {},
   "outputs": [],
   "source": [
    "sc.pl.tsne(\n",
    "    adata,\n",
    "    color=[\"total_counts\", \"pct_counts_mt\", \"scDblFinder_score\", \"scDblFinder_class\"],\n",
    ")"
   ]
  }
 ],
 "metadata": {
  "kernelspec": {
   "display_name": "Python 3",
   "language": "python",
   "name": "python3"
  },
  "language_info": {
   "codemirror_mode": {
    "name": "ipython",
    "version": 3
   },
   "file_extension": ".py",
   "mimetype": "text/x-python",
   "name": "python",
   "nbconvert_exporter": "python",
   "pygments_lexer": "ipython3",
   "version": "3.12.9"
  }
 },
 "nbformat": 4,
 "nbformat_minor": 4
}
